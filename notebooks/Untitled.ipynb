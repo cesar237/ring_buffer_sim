{
 "cells": [
  {
   "cell_type": "code",
   "execution_count": 3,
   "id": "4e842ed4",
   "metadata": {},
   "outputs": [],
   "source": [
    "val = [1, 2]"
   ]
  },
  {
   "cell_type": "code",
   "execution_count": 5,
   "id": "7d5b2222",
   "metadata": {},
   "outputs": [
    {
     "data": {
      "text/plain": [
       "1"
      ]
     },
     "execution_count": 5,
     "metadata": {},
     "output_type": "execute_result"
    }
   ],
   "source": [
    "val.index(2)"
   ]
  },
  {
   "cell_type": "code",
   "execution_count": null,
   "id": "dec58c1d",
   "metadata": {},
   "outputs": [],
   "source": []
  }
 ],
 "metadata": {
  "kernelspec": {
   "display_name": "Python 3 (ipykernel)",
   "language": "python",
   "name": "python3"
  },
  "language_info": {
   "codemirror_mode": {
    "name": "ipython",
    "version": 3
   },
   "file_extension": ".py",
   "mimetype": "text/x-python",
   "name": "python",
   "nbconvert_exporter": "python",
   "pygments_lexer": "ipython3",
   "version": "3.11.6"
  }
 },
 "nbformat": 4,
 "nbformat_minor": 5
}
